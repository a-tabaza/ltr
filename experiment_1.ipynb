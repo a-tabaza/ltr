{
 "cells": [
  {
   "cell_type": "markdown",
   "metadata": {},
   "source": [
    "# Experiment 1: Matrix Factorization with No Content Features\n",
    "\n",
    "**Assumptions:** there are no tail users, validated because the IQR for interactions per used is 52, and only 3 users have less than 52 interactions.\n",
    "\n",
    "**Models:** Alternating Least Squares (ALS), Singular Value Decomposition (SVD) and Bayesian Personalized Ranking (BPR)\n",
    "\n",
    "**Evaluation:** _P@10, R@10, NDCG@10_\n",
    "\n",
    "**Relevance Labels:** binary, if user interacted with item"
   ]
  },
  {
   "cell_type": "markdown",
   "metadata": {},
   "source": [
    "## Interaction Matrix with Binary Labels"
   ]
  },
  {
   "cell_type": "code",
   "execution_count": 1,
   "metadata": {},
   "outputs": [],
   "source": [
    "import pandas as pd\n",
    "import numpy as np\n",
    "from tqdm import tqdm"
   ]
  },
  {
   "cell_type": "code",
   "execution_count": 2,
   "metadata": {},
   "outputs": [],
   "source": [
    "interactions = pd.read_csv(\"KGRec-dataset/KGRec-music/implicit_lf_dataset.csv\", sep=\"\\t\", header=None)\n",
    "interactions.columns = [\"user_id\", \"item_id\", \"interaction\"]"
   ]
  },
  {
   "cell_type": "code",
   "execution_count": 3,
   "metadata": {},
   "outputs": [],
   "source": [
    "users = interactions[\"user_id\"].unique()\n",
    "items = interactions[\"item_id\"].unique()"
   ]
  },
  {
   "cell_type": "code",
   "execution_count": 4,
   "metadata": {},
   "outputs": [
    {
     "name": "stdout",
     "output_type": "stream",
     "text": [
      "Number of users:  5199\n",
      "Number of items:  8640\n",
      "Number of interactions:  751531\n"
     ]
    }
   ],
   "source": [
    "print(\"Number of users: \", len(users))\n",
    "print(\"Number of items: \", len(items))\n",
    "print(\"Number of interactions: \", len(interactions))"
   ]
  },
  {
   "cell_type": "code",
   "execution_count": 5,
   "metadata": {},
   "outputs": [],
   "source": [
    "def get_user_interactions(user_id):\n",
    "    user_interactions =  interactions[interactions[\"user_id\"] == user_id][\"item_id\"].values\n",
    "    sparse_vector = [0] * len(items)\n",
    "    for item in user_interactions:\n",
    "        sparse_vector[item-1] = 1\n",
    "    return np.array(sparse_vector)"
   ]
  },
  {
   "cell_type": "code",
   "execution_count": 6,
   "metadata": {},
   "outputs": [],
   "source": [
    "def get_user_interactions_dense(user_id):\n",
    "    user_interactions =  interactions[interactions[\"user_id\"] == user_id][\"item_id\"].values\n",
    "    return user_interactions"
   ]
  },
  {
   "cell_type": "code",
   "execution_count": 7,
   "metadata": {},
   "outputs": [
    {
     "data": {
      "text/html": [
       "<div>\n",
       "<style scoped>\n",
       "    .dataframe tbody tr th:only-of-type {\n",
       "        vertical-align: middle;\n",
       "    }\n",
       "\n",
       "    .dataframe tbody tr th {\n",
       "        vertical-align: top;\n",
       "    }\n",
       "\n",
       "    .dataframe thead th {\n",
       "        text-align: right;\n",
       "    }\n",
       "</style>\n",
       "<table border=\"1\" class=\"dataframe\">\n",
       "  <thead>\n",
       "    <tr style=\"text-align: right;\">\n",
       "      <th></th>\n",
       "      <th>user_id</th>\n",
       "      <th>item_id</th>\n",
       "      <th>interaction</th>\n",
       "    </tr>\n",
       "  </thead>\n",
       "  <tbody>\n",
       "    <tr>\n",
       "      <th>102166</th>\n",
       "      <td>7596</td>\n",
       "      <td>130</td>\n",
       "      <td>1</td>\n",
       "    </tr>\n",
       "    <tr>\n",
       "      <th>102167</th>\n",
       "      <td>7596</td>\n",
       "      <td>4228</td>\n",
       "      <td>1</td>\n",
       "    </tr>\n",
       "    <tr>\n",
       "      <th>102168</th>\n",
       "      <td>7596</td>\n",
       "      <td>3326</td>\n",
       "      <td>1</td>\n",
       "    </tr>\n",
       "    <tr>\n",
       "      <th>102169</th>\n",
       "      <td>7596</td>\n",
       "      <td>4472</td>\n",
       "      <td>1</td>\n",
       "    </tr>\n",
       "    <tr>\n",
       "      <th>102170</th>\n",
       "      <td>7596</td>\n",
       "      <td>5478</td>\n",
       "      <td>1</td>\n",
       "    </tr>\n",
       "    <tr>\n",
       "      <th>...</th>\n",
       "      <td>...</td>\n",
       "      <td>...</td>\n",
       "      <td>...</td>\n",
       "    </tr>\n",
       "    <tr>\n",
       "      <th>102247</th>\n",
       "      <td>7596</td>\n",
       "      <td>1365</td>\n",
       "      <td>1</td>\n",
       "    </tr>\n",
       "    <tr>\n",
       "      <th>102248</th>\n",
       "      <td>7596</td>\n",
       "      <td>3192</td>\n",
       "      <td>1</td>\n",
       "    </tr>\n",
       "    <tr>\n",
       "      <th>102249</th>\n",
       "      <td>7596</td>\n",
       "      <td>1688</td>\n",
       "      <td>1</td>\n",
       "    </tr>\n",
       "    <tr>\n",
       "      <th>102250</th>\n",
       "      <td>7596</td>\n",
       "      <td>687</td>\n",
       "      <td>1</td>\n",
       "    </tr>\n",
       "    <tr>\n",
       "      <th>102251</th>\n",
       "      <td>7596</td>\n",
       "      <td>5853</td>\n",
       "      <td>1</td>\n",
       "    </tr>\n",
       "  </tbody>\n",
       "</table>\n",
       "<p>86 rows × 3 columns</p>\n",
       "</div>"
      ],
      "text/plain": [
       "        user_id  item_id  interaction\n",
       "102166     7596      130            1\n",
       "102167     7596     4228            1\n",
       "102168     7596     3326            1\n",
       "102169     7596     4472            1\n",
       "102170     7596     5478            1\n",
       "...         ...      ...          ...\n",
       "102247     7596     1365            1\n",
       "102248     7596     3192            1\n",
       "102249     7596     1688            1\n",
       "102250     7596      687            1\n",
       "102251     7596     5853            1\n",
       "\n",
       "[86 rows x 3 columns]"
      ]
     },
     "execution_count": 7,
     "metadata": {},
     "output_type": "execute_result"
    }
   ],
   "source": [
    "interactions[interactions[\"user_id\"]==7596]"
   ]
  },
  {
   "cell_type": "code",
   "execution_count": 8,
   "metadata": {},
   "outputs": [],
   "source": [
    "from scipy.sparse import csc_array"
   ]
  },
  {
   "cell_type": "code",
   "execution_count": 9,
   "metadata": {},
   "outputs": [],
   "source": [
    "mapping = {user_id: i for i, user_id in enumerate(users)}"
   ]
  },
  {
   "cell_type": "code",
   "execution_count": 10,
   "metadata": {},
   "outputs": [
    {
     "name": "stderr",
     "output_type": "stream",
     "text": [
      "100%|██████████| 5199/5199 [00:04<00:00, 1069.10it/s]\n"
     ]
    }
   ],
   "source": [
    "interactions_matrix = csc_array([get_user_interactions(user) for user in tqdm(users)], shape=(len(users), len(items)))"
   ]
  },
  {
   "cell_type": "markdown",
   "metadata": {},
   "source": [
    "## Singular Value Decomposition (SVD)"
   ]
  },
  {
   "cell_type": "code",
   "execution_count": 11,
   "metadata": {},
   "outputs": [],
   "source": [
    "from sklearn.decomposition import TruncatedSVD"
   ]
  },
  {
   "cell_type": "code",
   "execution_count": 12,
   "metadata": {},
   "outputs": [],
   "source": [
    "from usearch.index import Index\n",
    "import ir_measures\n",
    "from ir_measures import *"
   ]
  },
  {
   "cell_type": "code",
   "execution_count": 116,
   "metadata": {},
   "outputs": [],
   "source": [
    "def evaluate_model(n_components, n_iter, k=10):\n",
    "    svd = TruncatedSVD(n_components=n_components, n_iter=n_iter, random_state=42)\n",
    "    svd.fit(interactions_matrix)\n",
    "\n",
    "    user_vectors = svd.transform(interactions_matrix)\n",
    "    item_vectors = svd.components_.T\n",
    "\n",
    "    index = Index(ndim=n_components, metric='dot')\n",
    "    index.add(keys = range(len(item_vectors)), vectors = item_vectors)\n",
    "\n",
    "    qrels = interactions.rename(columns={'user_id': 'query_id', 'item_id': 'doc_id', 'interaction': 'relevance'})\n",
    "    qrels[\"doc_id\"] = qrels[\"doc_id\"].astype(str)\n",
    "    qrels[\"query_id\"] = qrels[\"query_id\"].astype(str)\n",
    "    \n",
    "    runs = []\n",
    "\n",
    "    for user in users:\n",
    "        matches = [int(item[0]) for item in index.search(user_vectors[mapping[user]], count=k, exact=True).to_list()]\n",
    "        hits = get_user_interactions_dense(user).tolist()\n",
    "        run = [ir_measures.ScoredDoc(query_id=str(user), doc_id=str(item), score=1.0) for item in matches if item in hits]\n",
    "        runs.extend(run)\n",
    "\n",
    "    evaluator = ir_measures.evaluator([P@10, R@10, nDCG@10], qrels)\n",
    "    eval_res = evaluator.calc_aggregate(runs)\n",
    "    eval_res[\"n_components\"] = n_components\n",
    "    eval_res[\"n_iter\"] = n_iter\n",
    "    return eval_res"
   ]
  },
  {
   "cell_type": "code",
   "execution_count": 117,
   "metadata": {},
   "outputs": [
    {
     "name": "stderr",
     "output_type": "stream",
     "text": [
      "100%|██████████| 4/4 [02:33<00:00, 38.42s/it]\n"
     ]
    }
   ],
   "source": [
    "eval_scores = []\n",
    "for n_components in tqdm([10, 20, 50, 100]):\n",
    "    for n_iter in [5, 10, 20, 50, 100]:\n",
    "        eval_res = evaluate_model(n_components, n_iter, 10)\n",
    "        eval_scores.append(eval_res)"
   ]
  },
  {
   "cell_type": "code",
   "execution_count": 118,
   "metadata": {},
   "outputs": [],
   "source": [
    "eval_scores_df = pd.DataFrame(eval_scores)\n",
    "eval_scores_df.columns = [\"P@10\", \"R@10\", \"nDCG@10\", \"n_components\", \"n_iter\"]"
   ]
  },
  {
   "cell_type": "code",
   "execution_count": 119,
   "metadata": {},
   "outputs": [
    {
     "data": {
      "text/html": [
       "<div>\n",
       "<style scoped>\n",
       "    .dataframe tbody tr th:only-of-type {\n",
       "        vertical-align: middle;\n",
       "    }\n",
       "\n",
       "    .dataframe tbody tr th {\n",
       "        vertical-align: top;\n",
       "    }\n",
       "\n",
       "    .dataframe thead th {\n",
       "        text-align: right;\n",
       "    }\n",
       "</style>\n",
       "<table border=\"1\" class=\"dataframe\">\n",
       "  <thead>\n",
       "    <tr style=\"text-align: right;\">\n",
       "      <th></th>\n",
       "      <th></th>\n",
       "      <th>P@10</th>\n",
       "      <th>R@10</th>\n",
       "      <th>nDCG@10</th>\n",
       "    </tr>\n",
       "    <tr>\n",
       "      <th>n_components</th>\n",
       "      <th>n_iter</th>\n",
       "      <th></th>\n",
       "      <th></th>\n",
       "      <th></th>\n",
       "    </tr>\n",
       "  </thead>\n",
       "  <tbody>\n",
       "    <tr>\n",
       "      <th rowspan=\"5\" valign=\"top\">10</th>\n",
       "      <th>5</th>\n",
       "      <td>0.001809</td>\n",
       "      <td>0.025909</td>\n",
       "      <td>0.055304</td>\n",
       "    </tr>\n",
       "    <tr>\n",
       "      <th>10</th>\n",
       "      <td>0.001820</td>\n",
       "      <td>0.026082</td>\n",
       "      <td>0.055622</td>\n",
       "    </tr>\n",
       "    <tr>\n",
       "      <th>20</th>\n",
       "      <td>0.001822</td>\n",
       "      <td>0.026082</td>\n",
       "      <td>0.055622</td>\n",
       "    </tr>\n",
       "    <tr>\n",
       "      <th>50</th>\n",
       "      <td>0.001822</td>\n",
       "      <td>0.026082</td>\n",
       "      <td>0.055622</td>\n",
       "    </tr>\n",
       "    <tr>\n",
       "      <th>100</th>\n",
       "      <td>0.001822</td>\n",
       "      <td>0.026082</td>\n",
       "      <td>0.055622</td>\n",
       "    </tr>\n",
       "    <tr>\n",
       "      <th rowspan=\"5\" valign=\"top\">20</th>\n",
       "      <th>5</th>\n",
       "      <td>0.001601</td>\n",
       "      <td>0.022793</td>\n",
       "      <td>0.048695</td>\n",
       "    </tr>\n",
       "    <tr>\n",
       "      <th>10</th>\n",
       "      <td>0.001620</td>\n",
       "      <td>0.023120</td>\n",
       "      <td>0.049284</td>\n",
       "    </tr>\n",
       "    <tr>\n",
       "      <th>20</th>\n",
       "      <td>0.001617</td>\n",
       "      <td>0.023062</td>\n",
       "      <td>0.049157</td>\n",
       "    </tr>\n",
       "    <tr>\n",
       "      <th>50</th>\n",
       "      <td>0.001617</td>\n",
       "      <td>0.023062</td>\n",
       "      <td>0.049157</td>\n",
       "    </tr>\n",
       "    <tr>\n",
       "      <th>100</th>\n",
       "      <td>0.001617</td>\n",
       "      <td>0.023062</td>\n",
       "      <td>0.049157</td>\n",
       "    </tr>\n",
       "    <tr>\n",
       "      <th rowspan=\"5\" valign=\"top\">50</th>\n",
       "      <th>5</th>\n",
       "      <td>0.001488</td>\n",
       "      <td>0.021273</td>\n",
       "      <td>0.045403</td>\n",
       "    </tr>\n",
       "    <tr>\n",
       "      <th>10</th>\n",
       "      <td>0.001473</td>\n",
       "      <td>0.021100</td>\n",
       "      <td>0.045058</td>\n",
       "    </tr>\n",
       "    <tr>\n",
       "      <th>20</th>\n",
       "      <td>0.001474</td>\n",
       "      <td>0.021081</td>\n",
       "      <td>0.045016</td>\n",
       "    </tr>\n",
       "    <tr>\n",
       "      <th>50</th>\n",
       "      <td>0.001476</td>\n",
       "      <td>0.021100</td>\n",
       "      <td>0.045074</td>\n",
       "    </tr>\n",
       "    <tr>\n",
       "      <th>100</th>\n",
       "      <td>0.001476</td>\n",
       "      <td>0.021100</td>\n",
       "      <td>0.045074</td>\n",
       "    </tr>\n",
       "    <tr>\n",
       "      <th rowspan=\"5\" valign=\"top\">100</th>\n",
       "      <th>5</th>\n",
       "      <td>0.001470</td>\n",
       "      <td>0.020812</td>\n",
       "      <td>0.044497</td>\n",
       "    </tr>\n",
       "    <tr>\n",
       "      <th>10</th>\n",
       "      <td>0.001484</td>\n",
       "      <td>0.021043</td>\n",
       "      <td>0.044974</td>\n",
       "    </tr>\n",
       "    <tr>\n",
       "      <th>20</th>\n",
       "      <td>0.001505</td>\n",
       "      <td>0.021293</td>\n",
       "      <td>0.045430</td>\n",
       "    </tr>\n",
       "    <tr>\n",
       "      <th>50</th>\n",
       "      <td>0.001489</td>\n",
       "      <td>0.021119</td>\n",
       "      <td>0.045102</td>\n",
       "    </tr>\n",
       "    <tr>\n",
       "      <th>100</th>\n",
       "      <td>0.001495</td>\n",
       "      <td>0.021216</td>\n",
       "      <td>0.045277</td>\n",
       "    </tr>\n",
       "  </tbody>\n",
       "</table>\n",
       "</div>"
      ],
      "text/plain": [
       "                         P@10      R@10   nDCG@10\n",
       "n_components n_iter                              \n",
       "10           5       0.001809  0.025909  0.055304\n",
       "             10      0.001820  0.026082  0.055622\n",
       "             20      0.001822  0.026082  0.055622\n",
       "             50      0.001822  0.026082  0.055622\n",
       "             100     0.001822  0.026082  0.055622\n",
       "20           5       0.001601  0.022793  0.048695\n",
       "             10      0.001620  0.023120  0.049284\n",
       "             20      0.001617  0.023062  0.049157\n",
       "             50      0.001617  0.023062  0.049157\n",
       "             100     0.001617  0.023062  0.049157\n",
       "50           5       0.001488  0.021273  0.045403\n",
       "             10      0.001473  0.021100  0.045058\n",
       "             20      0.001474  0.021081  0.045016\n",
       "             50      0.001476  0.021100  0.045074\n",
       "             100     0.001476  0.021100  0.045074\n",
       "100          5       0.001470  0.020812  0.044497\n",
       "             10      0.001484  0.021043  0.044974\n",
       "             20      0.001505  0.021293  0.045430\n",
       "             50      0.001489  0.021119  0.045102\n",
       "             100     0.001495  0.021216  0.045277"
      ]
     },
     "execution_count": 119,
     "metadata": {},
     "output_type": "execute_result"
    }
   ],
   "source": [
    "eval_scores_df.groupby([\"n_components\", \"n_iter\"]).max()"
   ]
  },
  {
   "cell_type": "code",
   "execution_count": 120,
   "metadata": {},
   "outputs": [
    {
     "data": {
      "text/plain": [
       "<Axes: xlabel='n_components'>"
      ]
     },
     "execution_count": 120,
     "metadata": {},
     "output_type": "execute_result"
    },
    {
     "data": {
      "image/png": "[encoded data removed]",
      "text/plain": [
       "<Figure size 640x480 with 1 Axes>"
      ]
     },
     "metadata": {},
     "output_type": "display_data"
    }
   ],
   "source": [
    "eval_scores_df.plot(x=\"n_components\", y=\"P@10\")"
   ]
  },
  {
   "cell_type": "code",
   "execution_count": 121,
   "metadata": {},
   "outputs": [
    {
     "data": {
      "text/plain": [
       "<Axes: xlabel='n_components'>"
      ]
     },
     "execution_count": 121,
     "metadata": {},
     "output_type": "execute_result"
    },
    {
     "data": {
      "image/png": "[encoded data removed]",
      "text/plain": [
       "<Figure size 640x480 with 1 Axes>"
      ]
     },
     "metadata": {},
     "output_type": "display_data"
    }
   ],
   "source": [
    "eval_scores_df.plot(x=\"n_components\", y=\"R@10\")"
   ]
  },
  {
   "cell_type": "code",
   "execution_count": 122,
   "metadata": {},
   "outputs": [
    {
     "data": {
      "text/plain": [
       "<Axes: xlabel='n_components'>"
      ]
     },
     "execution_count": 122,
     "metadata": {},
     "output_type": "execute_result"
    },
    {
     "data": {
      "image/png": "[encoded data removed]",
      "text/plain": [
       "<Figure size 640x480 with 1 Axes>"
      ]
     },
     "metadata": {},
     "output_type": "display_data"
    }
   ],
   "source": [
    "eval_scores_df.plot(x=\"n_components\", y=\"nDCG@10\")"
   ]
  },
  {
   "cell_type": "markdown",
   "metadata": {},
   "source": [
    "## Interactions Matrix with TF-IDF Weights"
   ]
  },
  {
   "cell_type": "code",
   "execution_count": 68,
   "metadata": {},
   "outputs": [],
   "source": [
    "def tfidf_score(t, d, N):\n",
    "    \"\"\"\n",
    "    t = an item in the dataset\n",
    "    d = a user's interactions (get_user_interactions_dense(user).tolist())\n",
    "    N = total number of users \n",
    "    df = number of users that interacted with the item\n",
    "    \"\"\"\n",
    "    if t not in d:\n",
    "        return 0\n",
    "    df = interactions[interactions[\"item_id\"]==t][\"user_id\"].nunique()\n",
    "    tf = d.count(t) / len(d)\n",
    "    idf = np.log(N / df)\n",
    "    return tf * idf"
   ]
  },
  {
   "cell_type": "code",
   "execution_count": 64,
   "metadata": {},
   "outputs": [],
   "source": [
    "def get_user_interactions_tfidf(user_id):\n",
    "    user_interactions =  interactions[interactions[\"user_id\"] == user_id][\"item_id\"].values\n",
    "    sparse_vector = [0] * len(items)\n",
    "    for item in user_interactions:\n",
    "        sparse_vector[item-1] = tfidf_score(item, get_user_interactions_dense(user_id).tolist(), len(users))\n",
    "    return np.array(sparse_vector)"
   ]
  },
  {
   "cell_type": "code",
   "execution_count": 96,
   "metadata": {},
   "outputs": [
    {
     "name": "stderr",
     "output_type": "stream",
     "text": [
      "100%|██████████| 5199/5199 [16:06<00:00,  5.38it/s]\n"
     ]
    }
   ],
   "source": [
    "# TODO: this is horribly unoptimized, deal with it.\n",
    "tfidf_interaction_matrix = csc_array([get_user_interactions_tfidf(user) for user in tqdm(users)], shape=(len(users), len(items)))"
   ]
  },
  {
   "cell_type": "code",
   "execution_count": 109,
   "metadata": {},
   "outputs": [],
   "source": [
    "def evaluate_model(n_components, n_iter, k=10):\n",
    "    svd = TruncatedSVD(n_components=n_components, n_iter=n_iter, random_state=42)\n",
    "    svd.fit(tfidf_interaction_matrix)\n",
    "\n",
    "    user_vectors = svd.transform(tfidf_interaction_matrix)\n",
    "    item_vectors = svd.components_.T\n",
    "\n",
    "    index = Index(ndim=n_components, metric='dot')\n",
    "    index.add(keys = range(len(item_vectors)), vectors = item_vectors)\n",
    "\n",
    "    qrels = interactions.rename(columns={'user_id': 'query_id', 'item_id': 'doc_id', 'interaction': 'relevance'})\n",
    "    qrels[\"doc_id\"] = qrels[\"doc_id\"].astype(str)\n",
    "    qrels[\"query_id\"] = qrels[\"query_id\"].astype(str)\n",
    "    \n",
    "    runs = []\n",
    "\n",
    "    for user in users:\n",
    "        matches = [int(item[0]) for item in index.search(user_vectors[mapping[user]], count=k, exact=True).to_list()]\n",
    "        hits = get_user_interactions_dense(user).tolist()\n",
    "        run = [ir_measures.ScoredDoc(query_id=str(user), doc_id=str(item), score=1.0) for item in matches if item in hits]\n",
    "        runs.extend(run)\n",
    "\n",
    "    evaluator = ir_measures.evaluator([P@10, R@10, nDCG@10], qrels)\n",
    "    eval_res = evaluator.calc_aggregate(runs)\n",
    "    eval_res[\"n_components\"] = n_components\n",
    "    eval_res[\"n_iter\"] = n_iter\n",
    "    return eval_res"
   ]
  },
  {
   "cell_type": "code",
   "execution_count": 110,
   "metadata": {},
   "outputs": [
    {
     "name": "stderr",
     "output_type": "stream",
     "text": [
      "100%|██████████| 4/4 [02:38<00:00, 39.50s/it]\n"
     ]
    }
   ],
   "source": [
    "eval_scores = []\n",
    "for n_components in tqdm([10, 20, 50, 100]):\n",
    "    for n_iter in [5, 10, 20, 50, 100]:\n",
    "        eval_res = evaluate_model(n_components, n_iter, 10)\n",
    "        eval_scores.append(eval_res)"
   ]
  },
  {
   "cell_type": "code",
   "execution_count": 111,
   "metadata": {},
   "outputs": [],
   "source": [
    "eval_scores_df = pd.DataFrame(eval_scores)\n",
    "eval_scores_df.columns = [\"P@10\", \"R@10\", \"nDCG@10\", \"n_components\", \"n_iter\"]"
   ]
  },
  {
   "cell_type": "code",
   "execution_count": 112,
   "metadata": {},
   "outputs": [
    {
     "data": {
      "text/html": [
       "<div>\n",
       "<style scoped>\n",
       "    .dataframe tbody tr th:only-of-type {\n",
       "        vertical-align: middle;\n",
       "    }\n",
       "\n",
       "    .dataframe tbody tr th {\n",
       "        vertical-align: top;\n",
       "    }\n",
       "\n",
       "    .dataframe thead th {\n",
       "        text-align: right;\n",
       "    }\n",
       "</style>\n",
       "<table border=\"1\" class=\"dataframe\">\n",
       "  <thead>\n",
       "    <tr style=\"text-align: right;\">\n",
       "      <th></th>\n",
       "      <th></th>\n",
       "      <th>P@10</th>\n",
       "      <th>R@10</th>\n",
       "      <th>nDCG@10</th>\n",
       "    </tr>\n",
       "    <tr>\n",
       "      <th>n_components</th>\n",
       "      <th>n_iter</th>\n",
       "      <th></th>\n",
       "      <th></th>\n",
       "      <th></th>\n",
       "    </tr>\n",
       "  </thead>\n",
       "  <tbody>\n",
       "    <tr>\n",
       "      <th rowspan=\"5\" valign=\"top\">10</th>\n",
       "      <th>5</th>\n",
       "      <td>0.001397</td>\n",
       "      <td>0.020119</td>\n",
       "      <td>0.042900</td>\n",
       "    </tr>\n",
       "    <tr>\n",
       "      <th>10</th>\n",
       "      <td>0.001401</td>\n",
       "      <td>0.020119</td>\n",
       "      <td>0.042916</td>\n",
       "    </tr>\n",
       "    <tr>\n",
       "      <th>20</th>\n",
       "      <td>0.001400</td>\n",
       "      <td>0.020119</td>\n",
       "      <td>0.042916</td>\n",
       "    </tr>\n",
       "    <tr>\n",
       "      <th>50</th>\n",
       "      <td>0.001400</td>\n",
       "      <td>0.020119</td>\n",
       "      <td>0.042916</td>\n",
       "    </tr>\n",
       "    <tr>\n",
       "      <th>100</th>\n",
       "      <td>0.001400</td>\n",
       "      <td>0.020119</td>\n",
       "      <td>0.042916</td>\n",
       "    </tr>\n",
       "    <tr>\n",
       "      <th rowspan=\"5\" valign=\"top\">20</th>\n",
       "      <th>5</th>\n",
       "      <td>0.001265</td>\n",
       "      <td>0.017946</td>\n",
       "      <td>0.038262</td>\n",
       "    </tr>\n",
       "    <tr>\n",
       "      <th>10</th>\n",
       "      <td>0.001352</td>\n",
       "      <td>0.019369</td>\n",
       "      <td>0.041296</td>\n",
       "    </tr>\n",
       "    <tr>\n",
       "      <th>20</th>\n",
       "      <td>0.001333</td>\n",
       "      <td>0.019138</td>\n",
       "      <td>0.040814</td>\n",
       "    </tr>\n",
       "    <tr>\n",
       "      <th>50</th>\n",
       "      <td>0.001330</td>\n",
       "      <td>0.019100</td>\n",
       "      <td>0.040750</td>\n",
       "    </tr>\n",
       "    <tr>\n",
       "      <th>100</th>\n",
       "      <td>0.001330</td>\n",
       "      <td>0.019100</td>\n",
       "      <td>0.040750</td>\n",
       "    </tr>\n",
       "    <tr>\n",
       "      <th rowspan=\"5\" valign=\"top\">50</th>\n",
       "      <th>5</th>\n",
       "      <td>0.001313</td>\n",
       "      <td>0.018965</td>\n",
       "      <td>0.040557</td>\n",
       "    </tr>\n",
       "    <tr>\n",
       "      <th>10</th>\n",
       "      <td>0.001290</td>\n",
       "      <td>0.018600</td>\n",
       "      <td>0.039758</td>\n",
       "    </tr>\n",
       "    <tr>\n",
       "      <th>20</th>\n",
       "      <td>0.001306</td>\n",
       "      <td>0.018831</td>\n",
       "      <td>0.040167</td>\n",
       "    </tr>\n",
       "    <tr>\n",
       "      <th>50</th>\n",
       "      <td>0.001312</td>\n",
       "      <td>0.018965</td>\n",
       "      <td>0.040463</td>\n",
       "    </tr>\n",
       "    <tr>\n",
       "      <th>100</th>\n",
       "      <td>0.001309</td>\n",
       "      <td>0.018927</td>\n",
       "      <td>0.040379</td>\n",
       "    </tr>\n",
       "    <tr>\n",
       "      <th rowspan=\"5\" valign=\"top\">100</th>\n",
       "      <th>5</th>\n",
       "      <td>0.001291</td>\n",
       "      <td>0.018580</td>\n",
       "      <td>0.039815</td>\n",
       "    </tr>\n",
       "    <tr>\n",
       "      <th>10</th>\n",
       "      <td>0.001318</td>\n",
       "      <td>0.018869</td>\n",
       "      <td>0.040382</td>\n",
       "    </tr>\n",
       "    <tr>\n",
       "      <th>20</th>\n",
       "      <td>0.001327</td>\n",
       "      <td>0.018965</td>\n",
       "      <td>0.040541</td>\n",
       "    </tr>\n",
       "    <tr>\n",
       "      <th>50</th>\n",
       "      <td>0.001328</td>\n",
       "      <td>0.019023</td>\n",
       "      <td>0.040689</td>\n",
       "    </tr>\n",
       "    <tr>\n",
       "      <th>100</th>\n",
       "      <td>0.001328</td>\n",
       "      <td>0.019023</td>\n",
       "      <td>0.040674</td>\n",
       "    </tr>\n",
       "  </tbody>\n",
       "</table>\n",
       "</div>"
      ],
      "text/plain": [
       "                         P@10      R@10   nDCG@10\n",
       "n_components n_iter                              \n",
       "10           5       0.001397  0.020119  0.042900\n",
       "             10      0.001401  0.020119  0.042916\n",
       "             20      0.001400  0.020119  0.042916\n",
       "             50      0.001400  0.020119  0.042916\n",
       "             100     0.001400  0.020119  0.042916\n",
       "20           5       0.001265  0.017946  0.038262\n",
       "             10      0.001352  0.019369  0.041296\n",
       "             20      0.001333  0.019138  0.040814\n",
       "             50      0.001330  0.019100  0.040750\n",
       "             100     0.001330  0.019100  0.040750\n",
       "50           5       0.001313  0.018965  0.040557\n",
       "             10      0.001290  0.018600  0.039758\n",
       "             20      0.001306  0.018831  0.040167\n",
       "             50      0.001312  0.018965  0.040463\n",
       "             100     0.001309  0.018927  0.040379\n",
       "100          5       0.001291  0.018580  0.039815\n",
       "             10      0.001318  0.018869  0.040382\n",
       "             20      0.001327  0.018965  0.040541\n",
       "             50      0.001328  0.019023  0.040689\n",
       "             100     0.001328  0.019023  0.040674"
      ]
     },
     "execution_count": 112,
     "metadata": {},
     "output_type": "execute_result"
    }
   ],
   "source": [
    "eval_scores_df.groupby([\"n_components\", \"n_iter\"]).max()"
   ]
  },
  {
   "cell_type": "code",
   "execution_count": 113,
   "metadata": {},
   "outputs": [
    {
     "data": {
      "text/plain": [
       "<Axes: xlabel='n_components'>"
      ]
     },
     "execution_count": 113,
     "metadata": {},
     "output_type": "execute_result"
    },
    {
     "data": {
      "image/png": "[encoded data removed]",
      "text/plain": [
       "<Figure size 640x480 with 1 Axes>"
      ]
     },
     "metadata": {},
     "output_type": "display_data"
    }
   ],
   "source": [
    "eval_scores_df.plot(x=\"n_components\", y=\"P@10\")"
   ]
  },
  {
   "cell_type": "code",
   "execution_count": 114,
   "metadata": {},
   "outputs": [
    {
     "data": {
      "text/plain": [
       "<Axes: xlabel='n_components'>"
      ]
     },
     "execution_count": 114,
     "metadata": {},
     "output_type": "execute_result"
    },
    {
     "data": {
      "image/png": "[encoded data removed]",
      "text/plain": [
       "<Figure size 640x480 with 1 Axes>"
      ]
     },
     "metadata": {},
     "output_type": "display_data"
    }
   ],
   "source": [
    "eval_scores_df.plot(x=\"n_components\", y=\"R@10\")"
   ]
  },
  {
   "cell_type": "code",
   "execution_count": 115,
   "metadata": {},
   "outputs": [
    {
     "data": {
      "text/plain": [
       "<Axes: xlabel='n_components'>"
      ]
     },
     "execution_count": 115,
     "metadata": {},
     "output_type": "execute_result"
    },
    {
     "data": {
      "image/png": "[encoded data removed]",
      "text/plain": [
       "<Figure size 640x480 with 1 Axes>"
      ]
     },
     "metadata": {},
     "output_type": "display_data"
    }
   ],
   "source": [
    "eval_scores_df.plot(x=\"n_components\", y=\"nDCG@10\")"
   ]
  }
 ],
 "metadata": {
  "kernelspec": {
   "display_name": ".venv",
   "language": "python",
   "name": "python3"
  },
  "language_info": {
   "codemirror_mode": {
    "name": "ipython",
    "version": 3
   },
   "file_extension": ".py",
   "mimetype": "text/x-python",
   "name": "python",
   "nbconvert_exporter": "python",
   "pygments_lexer": "ipython3",
   "version": "3.10.12"
  }
 },
 "nbformat": 4,
 "nbformat_minor": 2
}
