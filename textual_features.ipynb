{
 "cells": [
  {
   "cell_type": "code",
   "execution_count": 53,
   "metadata": {},
   "outputs": [],
   "source": [
    "from glob import glob\n",
    "from tqdm import tqdm\n",
    "import pandas as pd"
   ]
  },
  {
   "cell_type": "code",
   "execution_count": 28,
   "metadata": {},
   "outputs": [],
   "source": [
    "tag_paths = glob(\"KGRec-dataset/KGRec-music/tags/*.txt\")\n",
    "desc_paths = glob(\"KGRec-dataset/KGRec-music/descriptions/*.txt\")"
   ]
  },
  {
   "cell_type": "code",
   "execution_count": 29,
   "metadata": {},
   "outputs": [
    {
     "name": "stdout",
     "output_type": "stream",
     "text": [
      "Tags: 8239\n",
      "Descriptions: 8640\n"
     ]
    }
   ],
   "source": [
    "print(\"Tags:\", len(tag_paths))\n",
    "print(\"Descriptions:\", len(desc_paths))"
   ]
  },
  {
   "cell_type": "code",
   "execution_count": 39,
   "metadata": {},
   "outputs": [],
   "source": [
    "song_ids = [f\"{i+1}.txt\" for i in range(8640)]"
   ]
  },
  {
   "cell_type": "code",
   "execution_count": 40,
   "metadata": {},
   "outputs": [
    {
     "data": {
      "text/plain": [
       "8640"
      ]
     },
     "execution_count": 40,
     "metadata": {},
     "output_type": "execute_result"
    }
   ],
   "source": [
    "len(song_ids)"
   ]
  },
  {
   "cell_type": "code",
   "execution_count": 41,
   "metadata": {},
   "outputs": [],
   "source": [
    "all_tags = []"
   ]
  },
  {
   "cell_type": "code",
   "execution_count": 42,
   "metadata": {},
   "outputs": [],
   "source": [
    "for tag in tag_paths:\n",
    "    with open(tag, 'r') as f:\n",
    "        lines = f.readlines()\n",
    "        if len(lines) == 1:\n",
    "            #print(lines[0].split(\" \"))\n",
    "            all_tags.extend(lines[0].split(\" \"))"
   ]
  },
  {
   "cell_type": "code",
   "execution_count": 43,
   "metadata": {},
   "outputs": [
    {
     "data": {
      "text/plain": [
       "50956"
      ]
     },
     "execution_count": 43,
     "metadata": {},
     "output_type": "execute_result"
    }
   ],
   "source": [
    "len(set(all_tags))"
   ]
  },
  {
   "cell_type": "code",
   "execution_count": 72,
   "metadata": {},
   "outputs": [],
   "source": [
    "songs_metadata = []"
   ]
  },
  {
   "cell_type": "code",
   "execution_count": 73,
   "metadata": {},
   "outputs": [
    {
     "name": "stderr",
     "output_type": "stream",
     "text": [
      "100%|██████████| 8640/8640 [00:00<00:00, 38230.28it/s]\n"
     ]
    }
   ],
   "source": [
    "for song_id in tqdm(song_ids):\n",
    "    tag_path = f\"KGRec-dataset/KGRec-music/tags/{song_id}\"\n",
    "    desc_path = f\"KGRec-dataset/KGRec-music/descriptions/{song_id}\"\n",
    "    try:\n",
    "        with open(tag_path, 'r') as f:\n",
    "            tags = f.read()\n",
    "            tags = tags.replace(\"-\", \" \")\n",
    "    except:\n",
    "        tags = \"\"\n",
    "    with open(desc_path, 'r') as f:\n",
    "        desc = f.read()\n",
    "    songs_metadata.append({\n",
    "        \"id\": song_id.split(\".\")[0],\n",
    "        \"tags\": tags,\n",
    "        \"description\": desc\n",
    "    })"
   ]
  },
  {
   "cell_type": "code",
   "execution_count": 74,
   "metadata": {},
   "outputs": [
    {
     "data": {
      "text/plain": [
       "8640"
      ]
     },
     "execution_count": 74,
     "metadata": {},
     "output_type": "execute_result"
    }
   ],
   "source": [
    "len(songs_metadata)"
   ]
  },
  {
   "cell_type": "code",
   "execution_count": 75,
   "metadata": {},
   "outputs": [
    {
     "data": {
      "text/plain": [
       "{'id': '1',\n",
       " 'tags': 'mathematical songs with individual pictures indie Experimental Rock sleepy pop 00s Good Stuff alternative Progressive rock shit change zodiac signs Mellow 60s indie rock missing someone time trippy warm downtempo psychedelic cool karen o Love Psychedelic Rock ear sex american american i like rock Top1000 2009 experimental',\n",
       " 'description': \"This ultra experimental number features some unusual contributions from German mathematician Dr. Thorsten Wörman and Yeah Yeah Yeahs vocalist , Karen O. Frontman Wayne Coyne explained : `` Features Thorsten Wörmann doing sound bites explaining some fundamental mathematical equations involving polynomial rings , but also featuring Karen O making clicking gunshot sounds . ''\\nThis is one of five songs on Embryonic that are named after zodiac signs .\\n\"}"
      ]
     },
     "execution_count": 75,
     "metadata": {},
     "output_type": "execute_result"
    }
   ],
   "source": [
    "songs_metadata[0]"
   ]
  },
  {
   "cell_type": "code",
   "execution_count": 76,
   "metadata": {},
   "outputs": [],
   "source": [
    "songs_df = pd.DataFrame(songs_metadata)\n",
    "songs_df.index = songs_df[\"id\"]\n",
    "songs_df.drop(\"id\", axis=1, inplace=True)"
   ]
  },
  {
   "cell_type": "code",
   "execution_count": 77,
   "metadata": {},
   "outputs": [
    {
     "data": {
      "text/html": [
       "<div>\n",
       "<style scoped>\n",
       "    .dataframe tbody tr th:only-of-type {\n",
       "        vertical-align: middle;\n",
       "    }\n",
       "\n",
       "    .dataframe tbody tr th {\n",
       "        vertical-align: top;\n",
       "    }\n",
       "\n",
       "    .dataframe thead th {\n",
       "        text-align: right;\n",
       "    }\n",
       "</style>\n",
       "<table border=\"1\" class=\"dataframe\">\n",
       "  <thead>\n",
       "    <tr style=\"text-align: right;\">\n",
       "      <th></th>\n",
       "      <th>tags</th>\n",
       "      <th>description</th>\n",
       "    </tr>\n",
       "    <tr>\n",
       "      <th>id</th>\n",
       "      <th></th>\n",
       "      <th></th>\n",
       "    </tr>\n",
       "  </thead>\n",
       "  <tbody>\n",
       "    <tr>\n",
       "      <th>1</th>\n",
       "      <td>mathematical songs with individual pictures in...</td>\n",
       "      <td>This ultra experimental number features some u...</td>\n",
       "    </tr>\n",
       "    <tr>\n",
       "      <th>2</th>\n",
       "      <td>my favorite country new country great song</td>\n",
       "      <td>The third single from Country music artist Cra...</td>\n",
       "    </tr>\n",
       "    <tr>\n",
       "      <th>3</th>\n",
       "      <td>beautiful indie sweet pop indie pop violin alt...</td>\n",
       "      <td>Frontman Charlie Fink 's lyrics for Last Night...</td>\n",
       "    </tr>\n",
       "    <tr>\n",
       "      <th>4</th>\n",
       "      <td>fucked up shawty awwwwwwwww yeah drake fig dat...</td>\n",
       "      <td>The sequel to Drake 's Thank Me Later track , ...</td>\n",
       "    </tr>\n",
       "    <tr>\n",
       "      <th>5</th>\n",
       "      <td>Iron Maiden rockhard classic british heavy met...</td>\n",
       "      <td>The `` Black Rain '' is a metaphor for oil .\\n...</td>\n",
       "    </tr>\n",
       "    <tr>\n",
       "      <th>...</th>\n",
       "      <td>...</td>\n",
       "      <td>...</td>\n",
       "    </tr>\n",
       "    <tr>\n",
       "      <th>8636</th>\n",
       "      <td></td>\n",
       "      <td>Florida Metalcore band Trivium introduce their...</td>\n",
       "    </tr>\n",
       "    <tr>\n",
       "      <th>8637</th>\n",
       "      <td>louder is never enough power indie rock indie ...</td>\n",
       "      <td>Frontman Kele Okerke has spoken of how he list...</td>\n",
       "    </tr>\n",
       "    <tr>\n",
       "      <th>8638</th>\n",
       "      <td>indie pretty fucking awesome pop female vocals...</td>\n",
       "      <td>This dynamic track might sound upbeat , but ly...</td>\n",
       "    </tr>\n",
       "    <tr>\n",
       "      <th>8639</th>\n",
       "      <td>christian metal beautiful christian rock xynod...</td>\n",
       "      <td>Vocalist Ryan Clark on bandsonfire.com about t...</td>\n",
       "    </tr>\n",
       "    <tr>\n",
       "      <th>8640</th>\n",
       "      <td>beautiful music for a rainy summer day indie a...</td>\n",
       "      <td>Snow Patrol 's second single from their sixth ...</td>\n",
       "    </tr>\n",
       "  </tbody>\n",
       "</table>\n",
       "<p>8640 rows × 2 columns</p>\n",
       "</div>"
      ],
      "text/plain": [
       "                                                   tags  \\\n",
       "id                                                        \n",
       "1     mathematical songs with individual pictures in...   \n",
       "2            my favorite country new country great song   \n",
       "3     beautiful indie sweet pop indie pop violin alt...   \n",
       "4     fucked up shawty awwwwwwwww yeah drake fig dat...   \n",
       "5     Iron Maiden rockhard classic british heavy met...   \n",
       "...                                                 ...   \n",
       "8636                                                      \n",
       "8637  louder is never enough power indie rock indie ...   \n",
       "8638  indie pretty fucking awesome pop female vocals...   \n",
       "8639  christian metal beautiful christian rock xynod...   \n",
       "8640  beautiful music for a rainy summer day indie a...   \n",
       "\n",
       "                                            description  \n",
       "id                                                       \n",
       "1     This ultra experimental number features some u...  \n",
       "2     The third single from Country music artist Cra...  \n",
       "3     Frontman Charlie Fink 's lyrics for Last Night...  \n",
       "4     The sequel to Drake 's Thank Me Later track , ...  \n",
       "5     The `` Black Rain '' is a metaphor for oil .\\n...  \n",
       "...                                                 ...  \n",
       "8636  Florida Metalcore band Trivium introduce their...  \n",
       "8637  Frontman Kele Okerke has spoken of how he list...  \n",
       "8638  This dynamic track might sound upbeat , but ly...  \n",
       "8639  Vocalist Ryan Clark on bandsonfire.com about t...  \n",
       "8640  Snow Patrol 's second single from their sixth ...  \n",
       "\n",
       "[8640 rows x 2 columns]"
      ]
     },
     "execution_count": 77,
     "metadata": {},
     "output_type": "execute_result"
    }
   ],
   "source": [
    "songs_df"
   ]
  },
  {
   "cell_type": "code",
   "execution_count": 78,
   "metadata": {},
   "outputs": [],
   "source": [
    "from searcharray import SearchArray"
   ]
  },
  {
   "cell_type": "code",
   "execution_count": 79,
   "metadata": {},
   "outputs": [
    {
     "name": "stdout",
     "output_type": "stream",
     "text": [
      "2024-06-15 10:17:25,834 - searcharray.indexing - INFO - Indexing begins\n",
      "2024-06-15 10:17:25,837 - searcharray.indexing - INFO - 0 Batch Start tokenization\n",
      "2024-06-15 10:17:25,837 - searcharray.indexing - INFO - Tokenizing 8640 documents\n",
      "2024-06-15 10:17:26,101 - searcharray.indexing - INFO - Tokenization -- vstacking\n",
      "2024-06-15 10:17:26,169 - searcharray.indexing - INFO - Tokenization -- DONE\n",
      "2024-06-15 10:17:26,175 - searcharray.indexing - INFO - Inverting docs->terms\n",
      "2024-06-15 10:17:26,235 - searcharray.indexing - INFO - Encoding positions to bit array\n",
      "2024-06-15 10:17:26,281 - searcharray.indexing - INFO - Indexing from tokenization complete\n"
     ]
    }
   ],
   "source": [
    "songs_df['tags_tokenized'] = SearchArray.index(songs_df['tags'])"
   ]
  },
  {
   "cell_type": "code",
   "execution_count": 80,
   "metadata": {},
   "outputs": [
    {
     "name": "stdout",
     "output_type": "stream",
     "text": [
      "2024-06-15 10:17:43,455 - searcharray.indexing - INFO - Indexing begins\n",
      "2024-06-15 10:17:43,458 - searcharray.indexing - INFO - 0 Batch Start tokenization\n",
      "2024-06-15 10:17:43,459 - searcharray.indexing - INFO - Tokenizing 8640 documents\n",
      "2024-06-15 10:17:44,198 - searcharray.indexing - INFO - Tokenization -- vstacking\n",
      "2024-06-15 10:17:44,271 - searcharray.indexing - INFO - Tokenization -- DONE\n",
      "2024-06-15 10:17:44,286 - searcharray.indexing - INFO - Inverting docs->terms\n",
      "2024-06-15 10:17:44,506 - searcharray.indexing - INFO - Encoding positions to bit array\n",
      "2024-06-15 10:17:44,616 - searcharray.indexing - INFO - Indexing from tokenization complete\n"
     ]
    }
   ],
   "source": [
    "songs_df['description_tokenized'] = SearchArray.index(songs_df['description'])"
   ]
  },
  {
   "cell_type": "code",
   "execution_count": 114,
   "metadata": {},
   "outputs": [],
   "source": [
    "def fts(query, column = \"tags\"):\n",
    "    results = songs_df.copy()\n",
    "    results[\"score\"] = songs_df['tags_tokenized'].array.score(query.split(\" \"))\n",
    "    if any(results[\"score\"].values > 0):\n",
    "        results = results.sort_values('score', ascending=False)\n",
    "        return results.iloc[:15,:2] # top 5 hits, id, tags and description columns only\n",
    "    else:\n",
    "        return \"No results found\""
   ]
  },
  {
   "cell_type": "code",
   "execution_count": 122,
   "metadata": {},
   "outputs": [
    {
     "data": {
      "text/html": [
       "<div>\n",
       "<style scoped>\n",
       "    .dataframe tbody tr th:only-of-type {\n",
       "        vertical-align: middle;\n",
       "    }\n",
       "\n",
       "    .dataframe tbody tr th {\n",
       "        vertical-align: top;\n",
       "    }\n",
       "\n",
       "    .dataframe thead th {\n",
       "        text-align: right;\n",
       "    }\n",
       "</style>\n",
       "<table border=\"1\" class=\"dataframe\">\n",
       "  <thead>\n",
       "    <tr style=\"text-align: right;\">\n",
       "      <th></th>\n",
       "      <th>tags</th>\n",
       "      <th>description</th>\n",
       "    </tr>\n",
       "    <tr>\n",
       "      <th>id</th>\n",
       "      <th></th>\n",
       "      <th></th>\n",
       "    </tr>\n",
       "  </thead>\n",
       "  <tbody>\n",
       "    <tr>\n",
       "      <th>1495</th>\n",
       "      <td>aggressive depression Obituary Extreme Metal a...</td>\n",
       "      <td>This is the title track from Obituary 's secon...</td>\n",
       "    </tr>\n",
       "    <tr>\n",
       "      <th>8540</th>\n",
       "      <td>no sympathy for fools Blackened Death Metal Ex...</td>\n",
       "      <td>This is Nergal 's testimony of his hatred for ...</td>\n",
       "    </tr>\n",
       "    <tr>\n",
       "      <th>55</th>\n",
       "      <td>metalcore metal i had to change my pants after...</td>\n",
       "      <td>This song is about a virgin woman dying while ...</td>\n",
       "    </tr>\n",
       "    <tr>\n",
       "      <th>6434</th>\n",
       "      <td>groove metal Enslaved death metal Soulfly 7 of...</td>\n",
       "      <td>This is a track from Enslaved , the eighth stu...</td>\n",
       "    </tr>\n",
       "    <tr>\n",
       "      <th>878</th>\n",
       "      <td>groovy 5 of 10 stars grindcore atmospheric dea...</td>\n",
       "      <td>Ben Savage of Whitechapel spoke to us about a ...</td>\n",
       "    </tr>\n",
       "    <tr>\n",
       "      <th>7092</th>\n",
       "      <td>death metal Awesome metal Metal Core Slipknot ...</td>\n",
       "      <td>This is a rewritten , re-recorded version of a...</td>\n",
       "    </tr>\n",
       "    <tr>\n",
       "      <th>4546</th>\n",
       "      <td>heavy groovy atmospheric death metal brutal de...</td>\n",
       "      <td>This is the third single from Baptized In Filt...</td>\n",
       "    </tr>\n",
       "    <tr>\n",
       "      <th>8329</th>\n",
       "      <td>groove metal USA death metal Awesome metal thr...</td>\n",
       "      <td>Guitarist Rob Arnold told Kerrang !\\nmagazine ...</td>\n",
       "    </tr>\n",
       "    <tr>\n",
       "      <th>3722</th>\n",
       "      <td>groovy grindcore atmospheric power death metal...</td>\n",
       "      <td>`` Reprogrammed to Hate '' is a great example ...</td>\n",
       "    </tr>\n",
       "    <tr>\n",
       "      <th>4412</th>\n",
       "      <td>viking metal swedish October Rust Melodic Deat...</td>\n",
       "      <td>This song is about Hel , the name of the godde...</td>\n",
       "    </tr>\n",
       "    <tr>\n",
       "      <th>1545</th>\n",
       "      <td>groove metal Enslaved death metal Soulfly 8 of...</td>\n",
       "      <td>This song is Soulfly frontman Max Cavalera 's ...</td>\n",
       "    </tr>\n",
       "    <tr>\n",
       "      <th>6865</th>\n",
       "      <td>oo breakdowns death death metal La mejor song ...</td>\n",
       "      <td>Lead singer Phil Bozeman is responsible for al...</td>\n",
       "    </tr>\n",
       "    <tr>\n",
       "      <th>7964</th>\n",
       "      <td>tagged progresywne cuda progressive death meta...</td>\n",
       "      <td>This song is about a man who finds out his lov...</td>\n",
       "    </tr>\n",
       "    <tr>\n",
       "      <th>6813</th>\n",
       "      <td>Preferidas Melodic Death Metal death metal met...</td>\n",
       "      <td>This song is about life and death and how ever...</td>\n",
       "    </tr>\n",
       "    <tr>\n",
       "      <th>7798</th>\n",
       "      <td>industrial groove metal death metal metal Lieb...</td>\n",
       "      <td>Frontman Burton C. Bell explained this song in...</td>\n",
       "    </tr>\n",
       "  </tbody>\n",
       "</table>\n",
       "</div>"
      ],
      "text/plain": [
       "                                                   tags  \\\n",
       "id                                                        \n",
       "1495  aggressive depression Obituary Extreme Metal a...   \n",
       "8540  no sympathy for fools Blackened Death Metal Ex...   \n",
       "55    metalcore metal i had to change my pants after...   \n",
       "6434  groove metal Enslaved death metal Soulfly 7 of...   \n",
       "878   groovy 5 of 10 stars grindcore atmospheric dea...   \n",
       "7092  death metal Awesome metal Metal Core Slipknot ...   \n",
       "4546  heavy groovy atmospheric death metal brutal de...   \n",
       "8329  groove metal USA death metal Awesome metal thr...   \n",
       "3722  groovy grindcore atmospheric power death metal...   \n",
       "4412  viking metal swedish October Rust Melodic Deat...   \n",
       "1545  groove metal Enslaved death metal Soulfly 8 of...   \n",
       "6865  oo breakdowns death death metal La mejor song ...   \n",
       "7964  tagged progresywne cuda progressive death meta...   \n",
       "6813  Preferidas Melodic Death Metal death metal met...   \n",
       "7798  industrial groove metal death metal metal Lieb...   \n",
       "\n",
       "                                            description  \n",
       "id                                                       \n",
       "1495  This is the title track from Obituary 's secon...  \n",
       "8540  This is Nergal 's testimony of his hatred for ...  \n",
       "55    This song is about a virgin woman dying while ...  \n",
       "6434  This is a track from Enslaved , the eighth stu...  \n",
       "878   Ben Savage of Whitechapel spoke to us about a ...  \n",
       "7092  This is a rewritten , re-recorded version of a...  \n",
       "4546  This is the third single from Baptized In Filt...  \n",
       "8329  Guitarist Rob Arnold told Kerrang !\\nmagazine ...  \n",
       "3722  `` Reprogrammed to Hate '' is a great example ...  \n",
       "4412  This song is about Hel , the name of the godde...  \n",
       "1545  This song is Soulfly frontman Max Cavalera 's ...  \n",
       "6865  Lead singer Phil Bozeman is responsible for al...  \n",
       "7964  This song is about a man who finds out his lov...  \n",
       "6813  This song is about life and death and how ever...  \n",
       "7798  Frontman Burton C. Bell explained this song in...  "
      ]
     },
     "execution_count": 122,
     "metadata": {},
     "output_type": "execute_result"
    }
   ],
   "source": [
    "fts(\"death metal\")"
   ]
  }
 ],
 "metadata": {
  "kernelspec": {
   "display_name": ".venv",
   "language": "python",
   "name": "python3"
  },
  "language_info": {
   "codemirror_mode": {
    "name": "ipython",
    "version": 3
   },
   "file_extension": ".py",
   "mimetype": "text/x-python",
   "name": "python",
   "nbconvert_exporter": "python",
   "pygments_lexer": "ipython3",
   "version": "3.10.12"
  }
 },
 "nbformat": 4,
 "nbformat_minor": 2
}
